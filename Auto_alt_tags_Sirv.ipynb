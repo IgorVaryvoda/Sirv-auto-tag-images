{
  "nbformat": 4,
  "nbformat_minor": 0,
  "metadata": {
    "colab": {
      "name": "Auto alt tags - Sirv",
      "provenance": [],
      "collapsed_sections": [],
      "mount_file_id": "https://gist.github.com/IgorVaryvoda/7c14d872b73a3b21ab19660bfd8d0eae#file-auto-alt-tags-sirv-ipynb",
      "authorship_tag": "ABX9TyPhC5Bv+HRB5gpBdPNLr0Vt",
      "include_colab_link": true
    },
    "kernelspec": {
      "name": "python3",
      "display_name": "Python 3"
    }
  },
  "cells": [
    {
      "cell_type": "markdown",
      "metadata": {
        "id": "view-in-github",
        "colab_type": "text"
      },
      "source": [
        "<a href=\"https://colab.research.google.com/github/IgorVaryvoda/Sirv-auto-tag-images/blob/main/Auto_alt_tags_Sirv.ipynb\" target=\"_parent\"><img src=\"https://colab.research.google.com/assets/colab-badge.svg\" alt=\"Open In Colab\"/></a>"
      ]
    },
    {
      "cell_type": "markdown",
      "metadata": {
        "id": "tQdiMSmTYA_7"
      },
      "source": [
        "Image alt tags are important for both accessibility and SEO. But writing alt tags and adding them to images can be quite a chore. What if there was a way to automate this process?\n",
        "\n",
        "Luckily, image recognition services like Azure's Computer Vision have come a long way. Let's leverage the power of AI and Sirv to automatically add alt tags to your images.\n",
        "\n",
        "[Read the full article here ](https://sirv.com/help/articles/auto-alt-tags-ai)\n",
        "\n",
        "Follow these steps:"
      ]
    },
    {
      "cell_type": "markdown",
      "metadata": {
        "id": "HAabNXBJYl5C"
      },
      "source": [
        "# 1. Install Azure SDK\n",
        "\n"
      ]
    },
    {
      "cell_type": "code",
      "metadata": {
        "colab": {
          "base_uri": "https://localhost:8080/"
        },
        "id": "qx6H7-3-Ye7Q",
        "outputId": "793439e4-1b42-489f-8a96-2fba06e29ed4"
      },
      "source": [
        "!pip install azure-cognitiveservices-vision-computervision\n",
        "# Download the demo images file (VM filesystem isn't persistent)\n",
        "!wget -q https://sirv.sirv.com/website/screenshots/auto-alt-tags/images.txt"
      ],
      "execution_count": 1,
      "outputs": [
        {
          "output_type": "stream",
          "name": "stdout",
          "text": [
            "Collecting azure-cognitiveservices-vision-computervision\n",
            "  Downloading azure_cognitiveservices_vision_computervision-0.9.0-py2.py3-none-any.whl (39 kB)\n",
            "Collecting azure-common~=1.1\n",
            "  Downloading azure_common-1.1.28-py2.py3-none-any.whl (14 kB)\n",
            "Collecting msrest>=0.5.0\n",
            "  Downloading msrest-0.6.21-py2.py3-none-any.whl (85 kB)\n",
            "\u001b[K     |████████████████████████████████| 85 kB 3.7 MB/s \n",
            "\u001b[?25hRequirement already satisfied: certifi>=2017.4.17 in /usr/local/lib/python3.7/dist-packages (from msrest>=0.5.0->azure-cognitiveservices-vision-computervision) (2021.10.8)\n",
            "Collecting isodate>=0.6.0\n",
            "  Downloading isodate-0.6.1-py2.py3-none-any.whl (41 kB)\n",
            "\u001b[K     |████████████████████████████████| 41 kB 630 kB/s \n",
            "\u001b[?25hRequirement already satisfied: requests~=2.16 in /usr/local/lib/python3.7/dist-packages (from msrest>=0.5.0->azure-cognitiveservices-vision-computervision) (2.23.0)\n",
            "Requirement already satisfied: requests-oauthlib>=0.5.0 in /usr/local/lib/python3.7/dist-packages (from msrest>=0.5.0->azure-cognitiveservices-vision-computervision) (1.3.1)\n",
            "Requirement already satisfied: six in /usr/local/lib/python3.7/dist-packages (from isodate>=0.6.0->msrest>=0.5.0->azure-cognitiveservices-vision-computervision) (1.15.0)\n",
            "Requirement already satisfied: urllib3!=1.25.0,!=1.25.1,<1.26,>=1.21.1 in /usr/local/lib/python3.7/dist-packages (from requests~=2.16->msrest>=0.5.0->azure-cognitiveservices-vision-computervision) (1.24.3)\n",
            "Requirement already satisfied: chardet<4,>=3.0.2 in /usr/local/lib/python3.7/dist-packages (from requests~=2.16->msrest>=0.5.0->azure-cognitiveservices-vision-computervision) (3.0.4)\n",
            "Requirement already satisfied: idna<3,>=2.5 in /usr/local/lib/python3.7/dist-packages (from requests~=2.16->msrest>=0.5.0->azure-cognitiveservices-vision-computervision) (2.10)\n",
            "Requirement already satisfied: oauthlib>=3.0.0 in /usr/local/lib/python3.7/dist-packages (from requests-oauthlib>=0.5.0->msrest>=0.5.0->azure-cognitiveservices-vision-computervision) (3.2.0)\n",
            "Installing collected packages: isodate, msrest, azure-common, azure-cognitiveservices-vision-computervision\n",
            "Successfully installed azure-cognitiveservices-vision-computervision-0.9.0 azure-common-1.1.28 isodate-0.6.1 msrest-0.6.21\n"
          ]
        }
      ]
    },
    {
      "cell_type": "markdown",
      "metadata": {
        "id": "eAgbMibYY8rd"
      },
      "source": [
        "#2. Add API keys"
      ]
    },
    {
      "cell_type": "markdown",
      "metadata": {
        "id": "na6U4-OXhyng"
      },
      "source": [
        "## 2.1 Azure key\n",
        "Follow the instructions <a href=\"https://sirv.com/help/articles/auto-alt-tags-ai#cv\">here</a>\n",
        "##2.2 Sirv keys\n",
        "[Follow these instructions](https://sirv.com/help/articles/auto-alt-tags-ai#get-sirv-rest-api-keys)"
      ]
    },
    {
      "cell_type": "code",
      "metadata": {
        "cellView": "form",
        "id": "pqWywXdkaEWo"
      },
      "source": [
        "#@title 2.3 Add your API keys here\n",
        "#@markdown Azure key\n",
        "\n",
        "subscription_key = ''  #@param {type: \"string\"}\n",
        "#@markdown Sirv keys\n",
        "sirv_id = '' #@param {type: \"string\"}\n",
        "sirv_secret = '' #@param {type: \"string\"}\n"
      ],
      "execution_count": null,
      "outputs": []
    },
    {
      "cell_type": "markdown",
      "metadata": {
        "id": "5oITBiKEikEw"
      },
      "source": [
        "# Add your images \n",
        "Add images (one image per line) to /content/images.txt\n",
        "\n",
        "Learn how to get them here - https://sirv.com/help/articles/auto-alt-tags-ai#adding-image-alt-tags-in-bulk"
      ]
    },
    {
      "cell_type": "markdown",
      "metadata": {
        "id": "gT_Jx0tUheZI"
      },
      "source": [
        "# Run the code"
      ]
    },
    {
      "cell_type": "code",
      "metadata": {
        "colab": {
          "base_uri": "https://localhost:8080/"
        },
        "id": "er0qagjNZNyt",
        "outputId": "e7c38dea-bf76-4fc7-8df6-b8f0f715438c"
      },
      "source": [
        "from azure.cognitiveservices.vision.computervision import ComputerVisionClient\n",
        "from msrest.authentication import CognitiveServicesCredentials\n",
        "import json\n",
        "import requests\n",
        "import time\n",
        "from urllib.parse import urlparse\n",
        "\n",
        "#Create Azure client\n",
        "endpoint = \"https://we.cognitiveservices.azure.com/\"\n",
        "computervision_client = ComputerVisionClient(endpoint, CognitiveServicesCredentials(subscription_key))\n",
        "\n",
        "# Get Sirv auth token. API reference - https://apidocs.sirv.com/#connect-to-sirv-api\n",
        "payload = {\n",
        "  'clientId': sirv_id,\n",
        "  'clientSecret': sirv_secret\n",
        "}\n",
        "#We're opening the csv file and looping through each image in the file\n",
        "with open('images.txt') as f:\n",
        "  for image in f:\n",
        "    headers = {'content-type': 'application/json', \"Origin\": \"*\"}\n",
        "    response = requests.request('POST', 'https://api.sirv.com/v2/token', data=json.dumps(payload), headers=headers)\n",
        "    token = response.json()['token']\n",
        "\n",
        "    # Create a Computer Vision client\n",
        "    description_results = computervision_client.describe_image(image)\n",
        "\n",
        "    # Get the captions (descriptions) from the response, with confidence level\n",
        "    print(\"Description of remote image: \")\n",
        "    if (len(description_results.captions) == 0):\n",
        "      print(\"No description detected.\")\n",
        "    else:\n",
        "      for caption in description_results.captions:\n",
        "        print(\"'{}' with confidence {:.2f}%\".format(caption.text, caption.confidence * 100))\n",
        "        description = '{\"description\": \"'+ caption.text + '\"}'\n",
        "        '''\n",
        "        Update the image description in Sirv.\n",
        "        API reference - https://apidocs.sirv.com/#set-meta-description\n",
        "        '''\n",
        "        params = {\"filename\": urlparse(image).path.replace('\\n', '')}\n",
        "        headers = {\n",
        "          'content-type': \"application/json\",\n",
        "          \"Origin\": \"*\",\n",
        "          'authorization': 'Bearer %s' % token\n",
        "        }\n",
        "        print('Updating the image description in Sirv')\n",
        "        response = requests.request('POST', 'https://api.sirv.com/v2/files/meta/description', data=description.encode('utf-8'), headers=headers, params=params)\n",
        "        print(response)\n",
        "        print('4 second pause')\n",
        "        time.sleep(4)"
      ],
      "execution_count": null,
      "outputs": [
        {
          "output_type": "stream",
          "text": [
            "Description of remote image: \n",
            "'a close up of a leopard' with confidence 52.22%\n",
            "Updating the image description in Sirv\n",
            "<Response [200]>\n",
            "4 second pause\n",
            "Description of remote image: \n",
            "'a pair of red headphones' with confidence 51.82%\n",
            "Updating the image description in Sirv\n",
            "<Response [200]>\n",
            "4 second pause\n"
          ],
          "name": "stdout"
        }
      ]
    }
  ]
}