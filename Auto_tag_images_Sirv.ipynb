{
  "nbformat": 4,
  "nbformat_minor": 0,
  "metadata": {
    "colab": {
      "name": "Auto tag images - Sirv",
      "provenance": [],
      "collapsed_sections": []
    },
    "kernelspec": {
      "name": "python3",
      "display_name": "Python 3"
    }
  },
  "cells": [
    {
      "cell_type": "markdown",
      "metadata": {
        "id": "tQdiMSmTYA_7"
      },
      "source": [
        "Auto tag your Sirv images for easier management with AI.\n",
        "\n",
        "\n",
        "Run the cells below one by one"
      ]
    },
    {
      "cell_type": "markdown",
      "metadata": {
        "id": "HAabNXBJYl5C"
      },
      "source": [
        "# 1. Install Azure SDK\n",
        "\n"
      ]
    },
    {
      "cell_type": "code",
      "metadata": {
        "colab": {
          "base_uri": "https://localhost:8080/"
        },
        "id": "qx6H7-3-Ye7Q",
        "outputId": "10b9b39a-74f8-438e-f23b-e18010bb9370"
      },
      "source": [
        "!pip install azure-cognitiveservices-vision-computervision\n",
        "# Download the demo images file (VM filesystem isn't persistent)\n",
        "!wget -q https://sirv.sirv.com/website/screenshots/auto-alt-tags/images.txt"
      ],
      "execution_count": 2,
      "outputs": [
        {
          "output_type": "stream",
          "name": "stdout",
          "text": [
            "Collecting azure-cognitiveservices-vision-computervision\n",
            "  Downloading azure_cognitiveservices_vision_computervision-0.9.0-py2.py3-none-any.whl (39 kB)\n",
            "Collecting msrest>=0.5.0\n",
            "  Downloading msrest-0.6.21-py2.py3-none-any.whl (85 kB)\n",
            "\u001b[K     |████████████████████████████████| 85 kB 3.4 MB/s \n",
            "\u001b[?25hCollecting azure-common~=1.1\n",
            "  Downloading azure_common-1.1.28-py2.py3-none-any.whl (14 kB)\n",
            "Requirement already satisfied: certifi>=2017.4.17 in /usr/local/lib/python3.7/dist-packages (from msrest>=0.5.0->azure-cognitiveservices-vision-computervision) (2021.10.8)\n",
            "Requirement already satisfied: requests-oauthlib>=0.5.0 in /usr/local/lib/python3.7/dist-packages (from msrest>=0.5.0->azure-cognitiveservices-vision-computervision) (1.3.1)\n",
            "Requirement already satisfied: requests~=2.16 in /usr/local/lib/python3.7/dist-packages (from msrest>=0.5.0->azure-cognitiveservices-vision-computervision) (2.23.0)\n",
            "Collecting isodate>=0.6.0\n",
            "  Downloading isodate-0.6.1-py2.py3-none-any.whl (41 kB)\n",
            "\u001b[K     |████████████████████████████████| 41 kB 790 kB/s \n",
            "\u001b[?25hRequirement already satisfied: six in /usr/local/lib/python3.7/dist-packages (from isodate>=0.6.0->msrest>=0.5.0->azure-cognitiveservices-vision-computervision) (1.15.0)\n",
            "Requirement already satisfied: idna<3,>=2.5 in /usr/local/lib/python3.7/dist-packages (from requests~=2.16->msrest>=0.5.0->azure-cognitiveservices-vision-computervision) (2.10)\n",
            "Requirement already satisfied: urllib3!=1.25.0,!=1.25.1,<1.26,>=1.21.1 in /usr/local/lib/python3.7/dist-packages (from requests~=2.16->msrest>=0.5.0->azure-cognitiveservices-vision-computervision) (1.24.3)\n",
            "Requirement already satisfied: chardet<4,>=3.0.2 in /usr/local/lib/python3.7/dist-packages (from requests~=2.16->msrest>=0.5.0->azure-cognitiveservices-vision-computervision) (3.0.4)\n",
            "Requirement already satisfied: oauthlib>=3.0.0 in /usr/local/lib/python3.7/dist-packages (from requests-oauthlib>=0.5.0->msrest>=0.5.0->azure-cognitiveservices-vision-computervision) (3.2.0)\n",
            "Installing collected packages: isodate, msrest, azure-common, azure-cognitiveservices-vision-computervision\n",
            "Successfully installed azure-cognitiveservices-vision-computervision-0.9.0 azure-common-1.1.28 isodate-0.6.1 msrest-0.6.21\n"
          ]
        }
      ]
    },
    {
      "cell_type": "markdown",
      "metadata": {
        "id": "eAgbMibYY8rd"
      },
      "source": [
        "#2. Add API keys"
      ]
    },
    {
      "cell_type": "markdown",
      "metadata": {
        "id": "na6U4-OXhyng"
      },
      "source": [
        "### 2.1 Get Azure key\n",
        "Follow the instructions <a href=\"https://sirv.com/help/articles/auto-alt-tags-ai#cv\">here</a>\n",
        "### 2.2 Get Sirv keys\n",
        "[Follow these instructions](https://sirv.com/help/articles/auto-alt-tags-ai#get-sirv-rest-api-keys)"
      ]
    },
    {
      "cell_type": "code",
      "metadata": {
        "cellView": "form",
        "id": "pqWywXdkaEWo"
      },
      "source": [
        "#@title 2.3 Add your API keys here and then run this cell\n",
        "#@markdown Azure key\n",
        "\n",
        "subscription_key = ''  #@param {type: \"string\"}\n",
        "#@markdown Sirv keys\n",
        "sirv_id = '' #@param {type: \"string\"}\n",
        "sirv_secret = '' #@param {type: \"string\"}\n"
      ],
      "execution_count": 6,
      "outputs": []
    },
    {
      "cell_type": "markdown",
      "metadata": {
        "id": "5oITBiKEikEw"
      },
      "source": [
        "# Add your images \n",
        "Add images (one image per line) to /content/images.txt\n",
        "\n",
        "Learn how to get them here - https://sirv.com/help/articles/auto-alt-tags-ai#adding-image-alt-tags-in-bulk"
      ]
    },
    {
      "cell_type": "markdown",
      "metadata": {
        "id": "gT_Jx0tUheZI"
      },
      "source": [
        "# Run the code"
      ]
    },
    {
      "cell_type": "code",
      "metadata": {
        "colab": {
          "base_uri": "https://localhost:8080/"
        },
        "id": "er0qagjNZNyt",
        "outputId": "66fe36e2-dcaf-4e15-99d1-24e8aea4e331"
      },
      "source": [
        "from azure.cognitiveservices.vision.computervision import ComputerVisionClient\n",
        "from msrest.authentication import CognitiveServicesCredentials\n",
        "import json\n",
        "import requests\n",
        "import time\n",
        "from urllib.parse import urlparse\n",
        "\n",
        "#Create Azure client\n",
        "endpoint = \"https://we.cognitiveservices.azure.com/\"\n",
        "computervision_client = ComputerVisionClient(endpoint, CognitiveServicesCredentials(subscription_key))\n",
        "\n",
        "# Get Sirv auth token. API reference - https://apidocs.sirv.com/#connect-to-sirv-api\n",
        "def getToken():\n",
        "  payload = {\n",
        "    'clientId': sirv_id,\n",
        "    'clientSecret': sirv_secret\n",
        "  }\n",
        "  headers = {'content-type': 'application/json', \"Origin\": \"*\"}\n",
        "  response = requests.request('POST', 'https://api.sirv.com/v2/token', data=json.dumps(payload), headers=headers)\n",
        "  token = response.json()['token']\n",
        "  return token\n",
        "\n",
        "#We're opening the csv file and looping through each image in the file\n",
        "with open('images.txt') as f:\n",
        "  for image in f:\n",
        "    getToken()\n",
        "    try:\n",
        "      urlp = urlparse(image)\n",
        "      filename = urlp.path\n",
        "      params = {\"filename\": filename.replace('\\n', '')}\n",
        "      tagsurl = 'https://api.sirv.com/v2/files/meta/tags'\n",
        "      # Get the tags\n",
        "        # Call API with remote image\n",
        "      tags_result_remote = computervision_client.tag_image(image)\n",
        "\n",
        "      # Print results with confidence score\n",
        "      print(\"Tags in the remote image: \")\n",
        "      if (len(tags_result_remote.tags) == 0):\n",
        "          print(\"No tags detected.\")\n",
        "      else:\n",
        "          tags = []\n",
        "          for tag in tags_result_remote.tags:\n",
        "              print(\"'{}' with confidence {:.2f}%\".format(tag.name, tag.confidence * 100))\n",
        "              if (tag.confidence*100 > 60):\n",
        "                  tags.append(tag.name)\n",
        "          tags = str(tags)\n",
        "          tags = tags.replace('\\'','\\\"')\n",
        "          payload='{\"tags\":'+ str(tags) +'}'\n",
        "          headers = {\n",
        "            'content-type': \"application/json\",\n",
        "            'authorization': 'Bearer %s' % token\n",
        "          }\n",
        "          response = requests.request('POST', tagsurl, data=payload.encode('utf-8'), headers=headers, params=params)\n",
        "          print(response)\n",
        "          time.sleep(4)\n",
        "    except Exception as ex:\n",
        "        print(ex)\n",
        "        continue"
      ],
      "execution_count": 22,
      "outputs": [
        {
          "output_type": "stream",
          "name": "stdout",
          "text": [
            "Tags in the remote image: \n",
            "'sky' with confidence 98.95%\n",
            "'cloud' with confidence 94.55%\n",
            "'outdoor' with confidence 93.79%\n",
            "'flag' with confidence 84.28%\n",
            "'mountain' with confidence 63.03%\n",
            "<Response [200]>\n",
            "Tags in the remote image: \n",
            "'text' with confidence 99.75%\n",
            "'human face' with confidence 98.90%\n",
            "'suit' with confidence 97.30%\n",
            "'person' with confidence 96.58%\n",
            "'tie' with confidence 94.62%\n",
            "'screenshot' with confidence 93.90%\n",
            "'man' with confidence 89.09%\n",
            "'clothing' with confidence 88.37%\n",
            "'forehead' with confidence 87.85%\n",
            "'white-collar worker' with confidence 84.44%\n",
            "<Response [200]>\n",
            "Tags in the remote image: \n",
            "'graphic design' with confidence 95.67%\n",
            "'graphics' with confidence 94.69%\n",
            "'poster' with confidence 89.85%\n",
            "'clipart' with confidence 86.00%\n",
            "'design' with confidence 54.99%\n",
            "'illustration' with confidence 44.52%\n",
            "<Response [200]>\n",
            "Tags in the remote image: \n",
            "'person' with confidence 98.61%\n",
            "'man' with confidence 96.09%\n",
            "'clothing' with confidence 96.07%\n",
            "'outdoor' with confidence 95.64%\n",
            "'demonstration' with confidence 94.64%\n",
            "'flag' with confidence 94.03%\n",
            "'rebellion' with confidence 93.63%\n",
            "'human face' with confidence 89.26%\n",
            "'audience' with confidence 88.43%\n",
            "'fan' with confidence 87.81%\n",
            "'crowd' with confidence 76.74%\n",
            "'people' with confidence 70.39%\n",
            "'sign' with confidence 66.86%\n",
            "'banner' with confidence 63.49%\n",
            "'text' with confidence 53.35%\n",
            "'presentation' with confidence 44.91%\n",
            "<Response [200]>\n",
            "Tags in the remote image: \n",
            "'clothing' with confidence 99.20%\n",
            "'person' with confidence 99.17%\n",
            "'man' with confidence 99.12%\n",
            "'human face' with confidence 98.09%\n",
            "'outdoor' with confidence 96.35%\n",
            "'demonstration' with confidence 93.60%\n",
            "'rebellion' with confidence 92.31%\n",
            "'flag' with confidence 92.09%\n",
            "'woman' with confidence 91.35%\n",
            "'audience' with confidence 86.12%\n",
            "'crowd' with confidence 75.57%\n",
            "'people' with confidence 72.93%\n",
            "'sign' with confidence 71.09%\n",
            "'banner' with confidence 51.17%\n",
            "<Response [200]>\n",
            "Tags in the remote image: \n",
            "'text' with confidence 99.56%\n",
            "'handwriting' with confidence 97.98%\n",
            "'office supplies' with confidence 97.52%\n",
            "'office instrument' with confidence 94.75%\n",
            "'stationery' with confidence 94.03%\n",
            "'document' with confidence 91.74%\n",
            "'ink' with confidence 88.99%\n",
            "'paper' with confidence 88.01%\n",
            "'pen' with confidence 81.97%\n",
            "'writing implement' with confidence 81.83%\n",
            "'person' with confidence 75.52%\n",
            "<Response [200]>\n",
            "Tags in the remote image: \n",
            "'person' with confidence 98.82%\n",
            "'animal' with confidence 95.77%\n",
            "'clothing' with confidence 95.24%\n",
            "'outdoor' with confidence 94.95%\n",
            "'human face' with confidence 93.52%\n",
            "'mammal' with confidence 93.20%\n",
            "'jacket' with confidence 84.24%\n",
            "'woman' with confidence 77.88%\n",
            "'black' with confidence 75.39%\n",
            "'wearing' with confidence 74.67%\n",
            "'staring' with confidence 67.73%\n",
            "'young' with confidence 67.41%\n",
            "'standing' with confidence 65.73%\n",
            "'cat' with confidence 54.23%\n",
            "<Response [200]>\n",
            "Tags in the remote image: \n",
            "'military person' with confidence 97.15%\n",
            "'clothing' with confidence 97.05%\n",
            "'person' with confidence 96.91%\n",
            "'army' with confidence 96.65%\n",
            "'military camouflage' with confidence 96.48%\n",
            "'camouflage' with confidence 96.38%\n",
            "'soldier' with confidence 95.90%\n",
            "'military organization' with confidence 95.63%\n",
            "'military uniform' with confidence 95.26%\n",
            "'military officer' with confidence 93.81%\n",
            "'military rank' with confidence 93.75%\n",
            "'non-commissioned officer' with confidence 93.67%\n",
            "'uniform' with confidence 92.61%\n",
            "'organization' with confidence 92.45%\n",
            "'infantry' with confidence 91.55%\n",
            "'security' with confidence 90.90%\n",
            "'marines' with confidence 89.52%\n",
            "'government agency' with confidence 88.83%\n",
            "'official' with confidence 87.73%\n",
            "'cargo pants' with confidence 87.04%\n",
            "'troop' with confidence 86.65%\n",
            "'military' with confidence 82.56%\n",
            "<Response [200]>\n",
            "Tags in the remote image: \n",
            "'clothing' with confidence 99.64%\n",
            "'person' with confidence 99.37%\n",
            "'outdoor' with confidence 97.46%\n",
            "'jacket' with confidence 97.24%\n",
            "'mammal' with confidence 92.20%\n",
            "'human face' with confidence 89.96%\n",
            "'fence' with confidence 89.48%\n",
            "'street' with confidence 87.33%\n",
            "'woman' with confidence 76.89%\n",
            "<Response [200]>\n",
            "Tags in the remote image: \n",
            "'clothing' with confidence 99.92%\n",
            "'person' with confidence 99.87%\n",
            "'human face' with confidence 99.77%\n",
            "'shirt' with confidence 90.53%\n",
            "'man' with confidence 88.36%\n",
            "'wall' with confidence 87.75%\n",
            "'job' with confidence 84.46%\n",
            "'indoor' with confidence 75.52%\n",
            "'people' with confidence 59.91%\n",
            "<Response [200]>\n",
            "Tags in the remote image: \n",
            "'text' with confidence 99.94%\n",
            "'screenshot' with confidence 93.61%\n",
            "'font' with confidence 88.52%\n",
            "'pattern' with confidence 70.63%\n",
            "'design' with confidence 66.41%\n",
            "<Response [200]>\n",
            "Tags in the remote image: \n",
            "'yellow' with confidence 97.92%\n",
            "'blue' with confidence 89.11%\n",
            "'electric blue' with confidence 88.56%\n",
            "'rectangle' with confidence 85.90%\n",
            "'colorfulness' with confidence 84.65%\n",
            "'abstract' with confidence 41.61%\n",
            "<Response [200]>\n",
            "(InvalidRequest) Input data is not a valid image.\n"
          ]
        }
      ]
    }
  ]
}